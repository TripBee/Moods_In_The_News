{
 "cells": [
  {
   "cell_type": "code",
   "execution_count": 40,
   "metadata": {},
   "outputs": [],
   "source": [
    "## Ok! so our goal today is to create a script that vizualizes the recent Mood in Twitter News\n",
    "## The first step is to grab some tweets from Twitter's API\n",
    "## Today we are the using tweepy library.\n",
    "import tweepy\n",
    "\n",
    "## In order to request information from twitter we need to authenticate ourselves as a legitimate person.\n",
    "## We load our ID codes...\n",
    "from config import (consumer_key, \n",
    "                    consumer_secret, \n",
    "                    access_token, \n",
    "                    access_token_secret)\n",
    "\n",
    "## ... and then authenticate ourselves.\n",
    "auth = tweepy.OAuthHandler(consumer_key, consumer_secret)\n",
    "auth.set_access_token(access_token, access_token_secret)\n",
    "api = tweepy.API(auth, parser=tweepy.parsers.JSONParser())\n",
    "## We can request information from twitter now!\n",
    "\n",
    "## Then we analyze the tweets to see how positive and negetive they are.\n",
    "## The VADER Sentiment Intensity Analyzer can do this.\n",
    "from vaderSentiment.vaderSentiment import SentimentIntensityAnalyzer\n",
    "analyzer = SentimentIntensityAnalyzer()\n",
    "\n",
    "## The next step is to format the data into tables that can be read by graphing software.\n",
    "## These libraries should get the job done!\n",
    "import numpy as np\n",
    "import pandas as pd\n",
    "\n",
    "## Now we need graphing software that visualizes the results.\n",
    "## These should work.\n",
    "from datetime import datetime\n",
    "import matplotlib.pyplot as plt\n",
    "from matplotlib import style\n",
    "style.use('ggplot')\n",
    "\n",
    "## And one more library for formatting the output,\n",
    "import os\n",
    "\n",
    "## Here We Go!"
   ]
  },
  {
   "cell_type": "code",
   "execution_count": 2,
   "metadata": {},
   "outputs": [
    {
     "name": "stdout",
     "output_type": "stream",
     "text": [
      "@BBC\n",
      "@CBS\n",
      "@CNN\n",
      "@FoxNews\n",
      "@nytimes\n"
     ]
    }
   ],
   "source": [
    "accounts = (\"@BBC\", \"@CBS\", \"@CNN\", \"@FoxNews\", \"@nytimes\")\n",
    "accountCounter = 0\n",
    "for account in accounts:\n",
    "    print(accounts[accountCounter])\n",
    "    accountCounter += 1\n",
    "    "
   ]
  },
  {
   "cell_type": "code",
   "execution_count": 3,
   "metadata": {},
   "outputs": [
    {
     "name": "stdout",
     "output_type": "stream",
     "text": [
      "0\n",
      "1\n"
     ]
    }
   ],
   "source": [
    "for x in range(2): \n",
    "    print(x)"
   ]
  },
  {
   "cell_type": "code",
   "execution_count": 4,
   "metadata": {},
   "outputs": [],
   "source": [
    "# Target User Accounts\n",
    "accounts = (\"@BBC\", \"@CBS\", \"@CNN\", \"@FoxNews\", \"@nytimes\")\n",
    "## In the next cells we will run the analysis for "
   ]
  },
  {
   "cell_type": "code",
   "execution_count": 5,
   "metadata": {},
   "outputs": [],
   "source": [
    "# create arrays to hold data \n",
    "sentimentBBC = []\n",
    "\n",
    "# Counter\n",
    "counter = 1\n",
    "\n",
    "# Variable for max_id\n",
    "oldest_tweet = None\n",
    "\n",
    "# Loop through 5 pages of tweets (total 100 tweets)\n",
    "for x in range(5):\n",
    "\n",
    "    # Get all tweets from home feed\n",
    "    public_tweets = api.user_timeline(\"@BBC\", max_id = oldest_tweet)\n",
    "\n",
    "    # Loop through all tweets \n",
    "    for tweet in public_tweets:\n",
    "        \n",
    "        # Run Vader Analysis on each tweet\n",
    "        results = analyzer.polarity_scores(tweet[\"text\"])\n",
    "        compound = results[\"compound\"]\n",
    "        pos = results[\"pos\"]\n",
    "        neu = results[\"neu\"]\n",
    "        neg = results[\"neg\"]\n",
    "    \n",
    "        # Get Tweet ID, subtract 1, and assign to oldest_tweet\n",
    "        oldest_tweet = tweet['id'] - 1\n",
    "        \n",
    "        # Add sentiments for each tweet into a list\n",
    "        sentimentBBC.append({\n",
    "            \"Date\": tweet[\"created_at\"],\n",
    "            \"Compound\": compound,\n",
    "            \"Positive\": pos,\n",
    "            \"Negative\": neu,\n",
    "            \"Neutral\": neg,\n",
    "            \"Tweets Ago\": counter,\n",
    "            \"Message\": tweet[\"text\"]\n",
    "                                })\n",
    "        \n",
    "        # Add to counter \n",
    "        counter += 1  "
   ]
  },
  {
   "cell_type": "code",
   "execution_count": 7,
   "metadata": {},
   "outputs": [],
   "source": [
    "sentimentCBS = []\n",
    "\n",
    "# Counter\n",
    "counter = 1\n",
    "\n",
    "# Variable for max_id\n",
    "oldest_tweet = None\n",
    "\n",
    "# Loop through 5 pages of tweets (total 100 tweets)\n",
    "for x in range(5):\n",
    "\n",
    "    # Get all tweets from home feed\n",
    "    public_tweets = api.user_timeline(\"@CBS\", max_id = oldest_tweet)\n",
    "\n",
    "    # Loop through all tweets \n",
    "    for tweet in public_tweets:\n",
    "        \n",
    "        # Run Vader Analysis on each tweet\n",
    "        results = analyzer.polarity_scores(tweet[\"text\"])\n",
    "        compound = results[\"compound\"]\n",
    "        pos = results[\"pos\"]\n",
    "        neu = results[\"neu\"]\n",
    "        neg = results[\"neg\"]\n",
    "    \n",
    "        # Get Tweet ID, subtract 1, and assign to oldest_tweet\n",
    "        oldest_tweet = tweet['id'] - 1\n",
    "        \n",
    "        # Add sentiments for each tweet into a list\n",
    "        sentimentCBS.append({\n",
    "            \"Date\": tweet[\"created_at\"],\n",
    "            \"Compound\": compound,\n",
    "            \"Positive\": pos,\n",
    "            \"Negative\": neu,\n",
    "            \"Neutral\": neg,\n",
    "            \"Tweets Ago\": counter,\n",
    "            \"Message\": tweet[\"text\"]\n",
    "                                })\n",
    "        \n",
    "        # Add to counter \n",
    "        counter += 1  "
   ]
  },
  {
   "cell_type": "code",
   "execution_count": 8,
   "metadata": {},
   "outputs": [],
   "source": [
    "sentimentCNN = []\n",
    "\n",
    "# Counter\n",
    "counter = 1\n",
    "\n",
    "# Variable for max_id\n",
    "oldest_tweet = None\n",
    "\n",
    "# Loop through 5 pages of tweets (total 100 tweets)\n",
    "for x in range(5):\n",
    "\n",
    "    # Get all tweets from home feed\n",
    "    public_tweets = api.user_timeline(\"@CNN\", max_id = oldest_tweet)\n",
    "\n",
    "    # Loop through all tweets \n",
    "    for tweet in public_tweets:\n",
    "        \n",
    "        # Run Vader Analysis on each tweet\n",
    "        results = analyzer.polarity_scores(tweet[\"text\"])\n",
    "        compound = results[\"compound\"]\n",
    "        pos = results[\"pos\"]\n",
    "        neu = results[\"neu\"]\n",
    "        neg = results[\"neg\"]\n",
    "    \n",
    "        # Get Tweet ID, subtract 1, and assign to oldest_tweet\n",
    "        oldest_tweet = tweet['id'] - 1\n",
    "        \n",
    "        # Add sentiments for each tweet into a list\n",
    "        sentimentCNN.append({\n",
    "            \"Date\": tweet[\"created_at\"],\n",
    "            \"Compound\": compound,\n",
    "            \"Positive\": pos,\n",
    "            \"Negative\": neu,\n",
    "            \"Neutral\": neg,\n",
    "            \"Tweets Ago\": counter,\n",
    "            \"Message\": tweet[\"text\"]\n",
    "                                })\n",
    "        \n",
    "        # Add to counter \n",
    "        counter += 1  "
   ]
  },
  {
   "cell_type": "code",
   "execution_count": 9,
   "metadata": {},
   "outputs": [],
   "source": [
    "sentimentFoxNews = []\n",
    "\n",
    "# Counter\n",
    "counter = 1\n",
    "\n",
    "# Variable for max_id\n",
    "oldest_tweet = None\n",
    "\n",
    "# Loop through 5 pages of tweets (total 100 tweets)\n",
    "for x in range(5):\n",
    "\n",
    "    # Get all tweets from home feed\n",
    "    public_tweets = api.user_timeline(\"@FoxNews\", max_id = oldest_tweet)\n",
    "\n",
    "    # Loop through all tweets \n",
    "    for tweet in public_tweets:\n",
    "        \n",
    "        # Run Vader Analysis on each tweet\n",
    "        results = analyzer.polarity_scores(tweet[\"text\"])\n",
    "        compound = results[\"compound\"]\n",
    "        pos = results[\"pos\"]\n",
    "        neu = results[\"neu\"]\n",
    "        neg = results[\"neg\"]\n",
    "    \n",
    "        # Get Tweet ID, subtract 1, and assign to oldest_tweet\n",
    "        oldest_tweet = tweet['id'] - 1\n",
    "        \n",
    "        # Add sentiments for each tweet into a list\n",
    "        sentimentFoxNews.append({\n",
    "            \"Date\": tweet[\"created_at\"],\n",
    "            \"Compound\": compound,\n",
    "            \"Positive\": pos,\n",
    "            \"Negative\": neu,\n",
    "            \"Neutral\": neg,\n",
    "            \"Tweets Ago\": counter,\n",
    "            \"Message\": tweet[\"text\"]\n",
    "                                })\n",
    "        \n",
    "        # Add to counter \n",
    "        counter += 1  "
   ]
  },
  {
   "cell_type": "code",
   "execution_count": 10,
   "metadata": {},
   "outputs": [],
   "source": [
    "sentimentNYTimes = []\n",
    "\n",
    "# Counter\n",
    "counter = 1\n",
    "\n",
    "# Variable for max_id\n",
    "oldest_tweet = None\n",
    "\n",
    "# Loop through 5 pages of tweets (total 100 tweets)\n",
    "for x in range(5):\n",
    "\n",
    "    # Get all tweets from home feed\n",
    "    public_tweets = api.user_timeline(\"@nytimes\", max_id = oldest_tweet)\n",
    "\n",
    "    # Loop through all tweets \n",
    "    for tweet in public_tweets:\n",
    "        \n",
    "        # Run Vader Analysis on each tweet\n",
    "        results = analyzer.polarity_scores(tweet[\"text\"])\n",
    "        compound = results[\"compound\"]\n",
    "        pos = results[\"pos\"]\n",
    "        neu = results[\"neu\"]\n",
    "        neg = results[\"neg\"]\n",
    "    \n",
    "        # Get Tweet ID, subtract 1, and assign to oldest_tweet\n",
    "        oldest_tweet = tweet['id'] - 1\n",
    "        \n",
    "        # Add sentiments for each tweet into a list\n",
    "        sentimentNYTimes.append({\n",
    "            \"Date\": tweet[\"created_at\"],\n",
    "            \"Compound\": compound,\n",
    "            \"Positive\": pos,\n",
    "            \"Negative\": neu,\n",
    "            \"Neutral\": neg,\n",
    "            \"Tweets Ago\": counter,\n",
    "            \"Message\": tweet[\"text\"]\n",
    "                                })\n",
    "        \n",
    "        # Add to counter \n",
    "        counter += 1  "
   ]
  },
  {
   "cell_type": "code",
   "execution_count": 11,
   "metadata": {},
   "outputs": [],
   "source": [
    "# Convert sentiments to DataFrame\n",
    "BBC_df = pd.DataFrame.from_dict(sentimentBBC)\n",
    "CBS_df = pd.DataFrame.from_dict(sentimentCBS)\n",
    "CNN_df = pd.DataFrame.from_dict(sentimentCNN)\n",
    "FoxNews_df = pd.DataFrame.from_dict(sentimentFoxNews)\n",
    "NYTimes_df = pd.DataFrame.from_dict(sentimentNYTimes)"
   ]
  },
  {
   "cell_type": "code",
   "execution_count": 48,
   "metadata": {},
   "outputs": [
    {
     "data": {
      "image/png": "[encoded data removed]",
      "text/plain": [
       "<Figure size 432x288 with 1 Axes>"
      ]
     },
     "metadata": {},
     "output_type": "display_data"
    }
   ],
   "source": [
    "# Create plot\n",
    "plt.plot(BBC_df[\"Tweets Ago\"],BBC_df[\"Compound\"], marker=\"o\", linewidth=0, alpha=0.75, color=\"red\")\n",
    "plt.plot(CBS_df[\"Tweets Ago\"],CBS_df[\"Compound\"], marker=\"o\", linewidth=0, alpha=0.75, color=\"orange\")\n",
    "plt.plot(CNN_df[\"Tweets Ago\"],CNN_df[\"Compound\"], marker=\"o\", linewidth=0, alpha=0.75, color=\"yellow\")\n",
    "plt.plot(FoxNews_df[\"Tweets Ago\"],FoxNews_df[\"Compound\"], marker=\"o\", linewidth=0, alpha=0.75, color=\"green\")\n",
    "plt.plot(NYTimes_df[\"Tweets Ago\"],NYTimes_df[\"Compound\"], marker=\"o\", linewidth=0, alpha=0.75, color=\"blue\")\n",
    "\n",
    "# Incorporate the other graph properties\n",
    "now = datetime.now()\n",
    "now = now.strftime(\"%Y-%m-%d  at  %H:%M\")\n",
    "plt.title(f\"Sentiment Analysis of  \\\n",
    "    {accounts[0]}, {accounts[1]}, {accounts[2]}, {accounts[3]}, and {accounts[4]} Tweets \\\n",
    "    on  {now}\")\n",
    "plt.ylabel(\"NEG<---Tweet Polarity--->POS\")\n",
    "plt.xlabel(\"Newer<------Tweets Ago----->Older\")\n",
    "if not os.path.exists(\"Output\"):\n",
    "    os.makedirs(\"Output\") \n",
    "if not os.path.exists(\"Output/twitter_sentiment.png\"):\n",
    "    plt.savefig(\"Output/twitter_sentiment.png\")\n",
    "plt.show()"
   ]
  },
  {
   "cell_type": "code",
   "execution_count": null,
   "metadata": {},
   "outputs": [],
   "source": []
  }
 ],
 "metadata": {
  "anaconda-cloud": {},
  "kernelspec": {
   "display_name": "Python 3",
   "language": "python",
   "name": "python3"
  },
  "language_info": {
   "codemirror_mode": {
    "name": "ipython",
    "version": 3
   },
   "file_extension": ".py",
   "mimetype": "text/x-python",
   "name": "python",
   "nbconvert_exporter": "python",
   "pygments_lexer": "ipython3",
   "version": "3.6.5"
  },
  "varInspector": {
   "cols": {
    "lenName": 16,
    "lenType": 16,
    "lenVar": 40
   },
   "kernels_config": {
    "python": {
     "delete_cmd_postfix": "",
     "delete_cmd_prefix": "del ",
     "library": "var_list.py",
     "varRefreshCmd": "print(var_dic_list())"
    },
    "r": {
     "delete_cmd_postfix": ") ",
     "delete_cmd_prefix": "rm(",
     "library": "var_list.r",
     "varRefreshCmd": "cat(var_dic_list()) "
    }
   },
   "types_to_exclude": [
    "module",
    "function",
    "builtin_function_or_method",
    "instance",
    "_Feature"
   ],
   "window_display": false
  }
 },
 "nbformat": 4,
 "nbformat_minor": 1
}
